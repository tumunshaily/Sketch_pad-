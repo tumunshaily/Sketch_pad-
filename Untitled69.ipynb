{
 "cells": [
  {
   "cell_type": "markdown",
   "metadata": {},
   "source": [
    "# LIBRARIES"
   ]
  },
  {
   "cell_type": "code",
   "execution_count": 1,
   "metadata": {},
   "outputs": [
    {
     "name": "stdout",
     "output_type": "stream",
     "text": [
      "pygame 1.9.6\n",
      "Hello from the pygame community. https://www.pygame.org/contribute.html\n"
     ]
    }
   ],
   "source": [
    "import pygame as pg"
   ]
  },
  {
   "cell_type": "markdown",
   "metadata": {},
   "source": [
    "# CODE"
   ]
  },
  {
   "cell_type": "code",
   "execution_count": 2,
   "metadata": {},
   "outputs": [],
   "source": [
    "pg.init()\n",
    "x = pg.display.Info()\n",
    "screen = pg.display.set_mode((x.current_w,x.current_h))\n",
    "screen.fill((0,0,0))\n",
    "end = True\n",
    "while end:\n",
    "    for i in pg.event.get():\n",
    "        if i.type == pg.QUIT:\n",
    "            end = False \n",
    "            break;\n",
    "        if pg.key.get_mods() and pg.KMOD_SHIFT:\n",
    "            x,y = pg.mouse.get_pos()\n",
    "            pg.draw.circle(screen,(0,0,0),(x,y),15)\n",
    "            pg.display.update()\n",
    "        else:\n",
    "            x,y = pg.mouse.get_pos()\n",
    "            pg.draw.circle(screen,(255,255,255),(x,y),5)\n",
    "            pg.display.update()\n",
    "pg.quit()"
   ]
  },
  {
   "cell_type": "code",
   "execution_count": null,
   "metadata": {},
   "outputs": [],
   "source": []
  }
 ],
 "metadata": {
  "kernelspec": {
   "display_name": "Python 3",
   "language": "python",
   "name": "python3"
  },
  "language_info": {
   "codemirror_mode": {
    "name": "ipython",
    "version": 3
   },
   "file_extension": ".py",
   "mimetype": "text/x-python",
   "name": "python",
   "nbconvert_exporter": "python",
   "pygments_lexer": "ipython3",
   "version": "3.7.4"
  }
 },
 "nbformat": 4,
 "nbformat_minor": 2
}
